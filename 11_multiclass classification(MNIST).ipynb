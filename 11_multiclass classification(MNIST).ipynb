{
 "cells": [
  {
   "cell_type": "code",
   "execution_count": 2,
   "metadata": {},
   "outputs": [],
   "source": [
    "# 일부만 할당된 GPU 메모리를 실행하는 동안 필요한만큼 늘릴 수 있도록 설정함\n",
    "import tensorflow as tf\n",
    "\n",
    "config = tf.ConfigProto()\n",
    "config.gpu_options.allow_growth = True\n",
    "session = tf.Session(config=config)"
   ]
  },
  {
   "cell_type": "code",
   "execution_count": 3,
   "metadata": {},
   "outputs": [],
   "source": [
    "# 모델 학습 시 불필요한 출력을 끄도록 함 (waning)\n",
    "\n",
    "tf.logging.set_verbosity(tf.logging.ERROR)"
   ]
  },
  {
   "cell_type": "code",
   "execution_count": 4,
   "metadata": {},
   "outputs": [],
   "source": [
    "import numpy as np\n",
    "\n",
    "np.random.seed(777)"
   ]
  },
  {
   "cell_type": "markdown",
   "metadata": {},
   "source": [
    "# 1. 데이터 준비"
   ]
  },
  {
   "cell_type": "code",
   "execution_count": 5,
   "metadata": {},
   "outputs": [],
   "source": [
    "from tensorflow.keras.datasets import mnist\n",
    "\n",
    "(train_images, train_labels), (test_images, test_labels) = mnist.load_data()"
   ]
  },
  {
   "cell_type": "code",
   "execution_count": 6,
   "metadata": {},
   "outputs": [
    {
     "name": "stdout",
     "output_type": "stream",
     "text": [
      "(60000, 28, 28)\n",
      "60000\n",
      "3\n",
      "uint8\n",
      "\n",
      "[5 0 4 ... 5 6 8]\n",
      "(60000,)\n",
      "60000\n",
      "1\n",
      "uint8\n"
     ]
    }
   ],
   "source": [
    "print(train_images.shape)\n",
    "print(len(train_images))\n",
    "print(train_images.ndim)\n",
    "print(train_images.dtype)\n",
    "\n",
    "print()\n",
    "\n",
    "print(train_labels)\n",
    "print(train_labels.shape)\n",
    "print(len(train_labels))\n",
    "print(train_labels.ndim)\n",
    "print(train_labels.dtype)"
   ]
  },
  {
   "cell_type": "code",
   "execution_count": 7,
   "metadata": {},
   "outputs": [],
   "source": [
    "# train_labels = train_labels[:]+10\n",
    "# test_labels = test_labels[:]+10"
   ]
  },
  {
   "cell_type": "code",
   "execution_count": 8,
   "metadata": {
    "scrolled": true
   },
   "outputs": [
    {
     "data": {
      "image/png": "[encoded data removed]",
      "text/plain": [
       "<Figure size 432x288 with 1 Axes>"
      ]
     },
     "metadata": {
      "needs_background": "light"
     },
     "output_type": "display_data"
    },
    {
     "name": "stdout",
     "output_type": "stream",
     "text": [
      "9\n"
     ]
    }
   ],
   "source": [
    "import matplotlib.pyplot as plt\n",
    "%matplotlib inline\n",
    "\n",
    "digit = train_images[4]\n",
    "label = train_labels[4]\n",
    "\n",
    "plt.imshow(digit, cmap=plt.cm.binary)\n",
    "plt.show()\n",
    "print(label)"
   ]
  },
  {
   "cell_type": "markdown",
   "metadata": {},
   "source": [
    "# ※ 참고"
   ]
  },
  {
   "cell_type": "code",
   "execution_count": 9,
   "metadata": {},
   "outputs": [],
   "source": [
    "# from pylab import *\n",
    "# from numpy import outer\n",
    "# rc('text', usetex=False)\n",
    "# a=outer(arange(0,1,0.01),ones(10))\n",
    "# figure(figsize=(15,5))\n",
    "# subplots_adjust(top=0.8,bottom=0.05,left=0.01,right=0.99)\n",
    "# maps = [m for m in cm.datad if not m.endswith(\"_r\")]\n",
    "# maps.sort()\n",
    "# l = len(maps)+1\n",
    "# for i, m in enumerate(maps):\n",
    "#     subplot(1,l,i+1)\n",
    "#     axis(\"off\")\n",
    "#     imshow(a,aspect='auto',cmap=get_cmap(m),origin=\"lower\")\n",
    "#     title(m,rotation=90,fontsize=10)\n",
    "# savefig(\"colormaps.png\",dpi=100,facecolor='gray')"
   ]
  },
  {
   "cell_type": "markdown",
   "metadata": {},
   "source": [
    "# 2. 데이터 전처리"
   ]
  },
  {
   "cell_type": "code",
   "execution_count": 10,
   "metadata": {},
   "outputs": [],
   "source": [
    "train_images = train_images.reshape((60000, 28*28))\n",
    "train_images = train_images.astype('float32') / 255\n",
    "\n",
    "test_images = test_images.reshape((10000, 28*28))\n",
    "test_images = test_images.astype('float32') / 255\n",
    "\n",
    "from tensorflow.keras.utils import to_categorical\n",
    "\n",
    "train_labels = to_categorical(train_labels)\n",
    "test_labels = to_categorical(test_labels)"
   ]
  },
  {
   "cell_type": "code",
   "execution_count": 11,
   "metadata": {},
   "outputs": [
    {
     "data": {
      "text/plain": [
       "array([0., 0., 0., 0., 0., 0., 0., 0., 0., 1.], dtype=float32)"
      ]
     },
     "execution_count": 11,
     "metadata": {},
     "output_type": "execute_result"
    }
   ],
   "source": [
    "train_labels[4]"
   ]
  },
  {
   "cell_type": "markdown",
   "metadata": {},
   "source": [
    "# 3. 네트워크 정의"
   ]
  },
  {
   "cell_type": "code",
   "execution_count": 12,
   "metadata": {},
   "outputs": [
    {
     "name": "stderr",
     "output_type": "stream",
     "text": [
      "Using TensorFlow backend.\n"
     ]
    }
   ],
   "source": [
    "from keras.models import Sequential\n",
    "from keras.layers import Dense \n",
    "\n",
    "model = Sequential()\n",
    "model.add(Dense(32, activation='relu', input_shape=(28*28,)))\n",
    "model.add(Dense(10, activation='softmax'))"
   ]
  },
  {
   "cell_type": "markdown",
   "metadata": {},
   "source": [
    "# 4. 컴파일\n",
    "- 옵티마이저, 손실 함수, 성능 척도 정의"
   ]
  },
  {
   "cell_type": "code",
   "execution_count": 13,
   "metadata": {},
   "outputs": [],
   "source": [
    "model.compile(optimizer = 'rmsprop',\n",
    "              loss = 'categorical_crossentropy',\n",
    "              metrics=['accuracy'])"
   ]
  },
  {
   "cell_type": "markdown",
   "metadata": {},
   "source": [
    "# 5. 모델 훈련시키기"
   ]
  },
  {
   "cell_type": "code",
   "execution_count": 18,
   "metadata": {},
   "outputs": [
    {
     "name": "stdout",
     "output_type": "stream",
     "text": [
      "Train on 60000 samples, validate on 10000 samples\n",
      "Epoch 1/2\n",
      "60000/60000 [==============================] - 2s 31us/step - loss: 0.1057 - acc: 0.9694 - val_loss: 0.1252 - val_acc: 0.9630\n",
      "Epoch 2/2\n",
      "60000/60000 [==============================] - 2s 29us/step - loss: 0.0994 - acc: 0.9709 - val_loss: 0.1204 - val_acc: 0.9649\n"
     ]
    }
   ],
   "source": [
    "hist = model.fit(train_images, \n",
    "                 train_labels, \n",
    "                 epochs=2, \n",
    "                 batch_size=128,\n",
    "                 validation_data=(test_images, test_labels))"
   ]
  },
  {
   "cell_type": "markdown",
   "metadata": {},
   "source": [
    "# 6. 모델 평가하기"
   ]
  },
  {
   "cell_type": "code",
   "execution_count": 34,
   "metadata": {},
   "outputs": [
    {
     "name": "stdout",
     "output_type": "stream",
     "text": [
      "10000/10000 [==============================] - 0s 43us/step\n",
      "test_acc: 0.9334\n"
     ]
    }
   ],
   "source": [
    "test_loss, test_acc = model.evaluate(test_images, test_labels)\n",
    "print('test_acc:', test_acc)"
   ]
  },
  {
   "cell_type": "code",
   "execution_count": 35,
   "metadata": {},
   "outputs": [
    {
     "name": "stdout",
     "output_type": "stream",
     "text": [
      "target: 7\n",
      "predict: 7\n"
     ]
    }
   ],
   "source": [
    "import numpy as np\n",
    "\n",
    "test_labels = test_labels.argmax(axis=-1)\n",
    "pred_labels = model.predict(test_images).argmax(axis=-1)\n",
    "print('target:', test_labels[0])\n",
    "print('predict:', pred_labels[0])"
   ]
  },
  {
   "cell_type": "markdown",
   "metadata": {},
   "source": [
    "# ※ 오류 분석(error analysis)"
   ]
  },
  {
   "cell_type": "code",
   "execution_count": 36,
   "metadata": {},
   "outputs": [
    {
     "name": "stdout",
     "output_type": "stream",
     "text": [
      "[[ 957    0    0    1    0    4   11    3    4    0]\n",
      " [   0 1094    5    2    1    1    4    3   25    0]\n",
      " [  10    1  944    2   14    2    7   13   38    1]\n",
      " [   3    0   22  895    2   28    1   16   37    6]\n",
      " [   1    1    4    0  932    0   11    2    6   25]\n",
      " [  10    1    2   24   10  780   21    6   31    7]\n",
      " [   8    3    5    0    5    7  925    1    4    0]\n",
      " [   1    7   21    3    6    0    1  967    1   21]\n",
      " [   5    2    7    7    7    9   10   10  914    3]\n",
      " [   8    4    1    5   34    5    1   13   12  926]]\n"
     ]
    }
   ],
   "source": [
    "from sklearn.metrics import confusion_matrix\n",
    "import numpy as np\n",
    "\n",
    "cm = confusion_matrix(test_labels, pred_labels) # pred는 value로 전달\n",
    "print(cm)"
   ]
  },
  {
   "cell_type": "code",
   "execution_count": 37,
   "metadata": {},
   "outputs": [
    {
     "data": {
      "image/png": "[encoded data removed]",
      "text/plain": [
       "<Figure size 432x288 with 2 Axes>"
      ]
     },
     "metadata": {
      "needs_background": "light"
     },
     "output_type": "display_data"
    }
   ],
   "source": [
    "import pandas as pd\n",
    "import seaborn as sns\n",
    "\n",
    "df_cm = pd.DataFrame(cm)\n",
    "heatmap = sns.heatmap(df_cm, annot=True, fmt='d')"
   ]
  },
  {
   "cell_type": "code",
   "execution_count": 38,
   "metadata": {},
   "outputs": [
    {
     "name": "stdout",
     "output_type": "stream",
     "text": [
      "(895, 784)\n",
      "(28, 784)\n",
      "(24, 784)\n",
      "(780, 784)\n"
     ]
    }
   ],
   "source": [
    "X_33 = test_images[(test_labels == 3) & (pred_labels == 3)]\n",
    "X_35 = test_images[(test_labels == 3) & (pred_labels == 5)]\n",
    "X_53 = test_images[(test_labels == 5) & (pred_labels == 3)]\n",
    "X_55 = test_images[(test_labels == 5) & (pred_labels == 5)]\n",
    "\n",
    "print(X_33.shape)\n",
    "print(X_35.shape)\n",
    "print(X_53.shape)\n",
    "print(X_55.shape)"
   ]
  },
  {
   "cell_type": "code",
   "execution_count": 39,
   "metadata": {},
   "outputs": [],
   "source": [
    "def plot_digits(instances, images_per_row=10, **options):\n",
    "    size = 28\n",
    "    images_per_row = min(len(instances), images_per_row)\n",
    "    images = [instance.reshape(size,size) for instance in instances]\n",
    "    n_rows = (len(instances) - 1) // images_per_row + 1\n",
    "    row_images = []\n",
    "    n_empty = n_rows * images_per_row - len(instances)\n",
    "    images.append(np.zeros((size, size * n_empty)))\n",
    "    for row in range(n_rows):\n",
    "        rimages = images[row * images_per_row : (row + 1) * images_per_row]\n",
    "        row_images.append(np.concatenate(rimages, axis=1))\n",
    "    image = np.concatenate(row_images, axis=0)\n",
    "    plt.imshow(image, cmap = 'binary', **options)\n",
    "    plt.axis(\"off\")"
   ]
  },
  {
   "cell_type": "code",
   "execution_count": 40,
   "metadata": {},
   "outputs": [
    {
     "data": {
      "image/png": "[encoded data removed]",
      "text/plain": [
       "<Figure size 576x576 with 4 Axes>"
      ]
     },
     "metadata": {
      "needs_background": "light"
     },
     "output_type": "display_data"
    }
   ],
   "source": [
    "plt.figure(figsize=(8,8))\n",
    "plt.subplot(221); plot_digits(X_33[:16], images_per_row=4)\n",
    "plt.subplot(222); plot_digits(X_35[:16], images_per_row=4)\n",
    "plt.subplot(223); plot_digits(X_53[:16], images_per_row=4)\n",
    "plt.subplot(224); plot_digits(X_55[:16], images_per_row=4)\n",
    "plt.show()"
   ]
  }
 ],
 "metadata": {
  "kernelspec": {
   "display_name": "Python 3",
   "language": "python",
   "name": "python3"
  },
  "language_info": {
   "codemirror_mode": {
    "name": "ipython",
    "version": 3
   },
   "file_extension": ".py",
   "mimetype": "text/x-python",
   "name": "python",
   "nbconvert_exporter": "python",
   "pygments_lexer": "ipython3",
   "version": "3.7.3"
  }
 },
 "nbformat": 4,
 "nbformat_minor": 2
}
